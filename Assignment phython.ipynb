{
 "cells": [
  {
   "cell_type": "code",
   "execution_count": 8,
   "id": "23d32b14",
   "metadata": {},
   "outputs": [
    {
     "name": "stdout",
     "output_type": "stream",
     "text": [
      "Twinklke,twinkle,little star,\n",
      "          How l wonder what you are!\n",
      "                     Up above world so high,\n",
      "                     Like a diamond in the sky.\n",
      "Twinkle,twinkle,little star,\n",
      "         How l wonder what you are\n"
     ]
    }
   ],
   "source": [
    "print(\"Twinklke,twinkle,little star,\")\n",
    "\n",
    "print(\"          How l wonder what you are!\")\n",
    "print(\"                     Up above world so high,\")\n",
    "print(\"                     Like a diamond in the sky.\")\n",
    "print(\"Twinkle,twinkle,little star,\")\n",
    "print(\"         How l wonder what you are\")"
   ]
  },
  {
   "cell_type": "code",
   "execution_count": 11,
   "id": "e7585341",
   "metadata": {},
   "outputs": [
    {
     "name": "stdout",
     "output_type": "stream",
     "text": [
      "phython version\n",
      "3.8.8 (default, Apr 13 2021, 15:08:03) [MSC v.1916 64 bit (AMD64)]\n",
      "phython info\n",
      "sys.version_info(major=3, minor=8, micro=8, releaselevel='final', serial=0)\n"
     ]
    }
   ],
   "source": [
    "import sys \n",
    "print(\"phython version\")\n",
    "print(sys.version)\n",
    "print(\"phython info\")\n",
    "print(sys.version_info)"
   ]
  },
  {
   "cell_type": "code",
   "execution_count": 1,
   "id": "31e7fcc2",
   "metadata": {},
   "outputs": [
    {
     "name": "stdout",
     "output_type": "stream",
     "text": [
      "first nameHamza\n",
      "last nameZubair\n",
      "Zubair Hamza\n"
     ]
    }
   ],
   "source": [
    "f=input(\"first name\")\n",
    "l=input(\"last name\")\n",
    "print(l +\" \"+ f)\n"
   ]
  },
  {
   "cell_type": "code",
   "execution_count": 9,
   "id": "1a158b67",
   "metadata": {},
   "outputs": [
    {
     "name": "stdout",
     "output_type": "stream",
     "text": [
      "Enter number 1 10\n",
      "Enter number 2 12\n",
      "22\n"
     ]
    }
   ],
   "source": [
    "num1= int(input(\"Enter number 1 \"))\n",
    "num2= int(input(\"Enter number 2 \"))\n",
    "total= num1 + num2 \n",
    "print (total)\n",
    "          "
   ]
  },
  {
   "cell_type": "code",
   "execution_count": null,
   "id": "a4bd1536",
   "metadata": {},
   "outputs": [],
   "source": []
  },
  {
   "cell_type": "code",
   "execution_count": null,
   "id": "321ed1c3",
   "metadata": {},
   "outputs": [],
   "source": []
  }
 ],
 "metadata": {
  "kernelspec": {
   "display_name": "Python 3",
   "language": "python",
   "name": "python3"
  },
  "language_info": {
   "codemirror_mode": {
    "name": "ipython",
    "version": 3
   },
   "file_extension": ".py",
   "mimetype": "text/x-python",
   "name": "python",
   "nbconvert_exporter": "python",
   "pygments_lexer": "ipython3",
   "version": "3.8.8"
  }
 },
 "nbformat": 4,
 "nbformat_minor": 5
}
